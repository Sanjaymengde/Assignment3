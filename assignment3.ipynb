{
 "cells": [
  {
   "cell_type": "markdown",
   "id": "6fb6ca85-9835-4d06-b486-e10a037a2f46",
   "metadata": {},
   "source": [
    "Q1. Which keyword is used to create a function? Create a function to return a list of odd numbers in the\n",
    "range of 1 to 25."
   ]
  },
  {
   "cell_type": "markdown",
   "id": "147f3069-66da-4bee-9c4d-0a8ff9be1c63",
   "metadata": {},
   "source": [
    "def keyword is used to create a funcion."
   ]
  },
  {
   "cell_type": "code",
   "execution_count": 35,
   "id": "c7a61c9d-2b18-4a22-ba5e-c27b0fcedde4",
   "metadata": {},
   "outputs": [],
   "source": [
    "l1=[1,2,3,4,5,6,7,8,9,10,11,12,13,14,15,16,17,18,19,20,21,22,23,24,25]"
   ]
  },
  {
   "cell_type": "code",
   "execution_count": 44,
   "id": "da72758d-89fc-4970-be48-5695c2a160ed",
   "metadata": {},
   "outputs": [],
   "source": [
    "def fun1(l1):\n",
    "    l2=[]\n",
    "    for i in l1:\n",
    "        if i%2!=0:\n",
    "            print(i ,\"it is odd number\")\n",
    "        else:\n",
    "            print(i ,\"not odd number\")\n",
    "            l2.append(i)\n",
    "    return l2"
   ]
  },
  {
   "cell_type": "code",
   "execution_count": 45,
   "id": "9938daad-c617-4b70-b60f-a52c7a78f896",
   "metadata": {},
   "outputs": [
    {
     "name": "stdout",
     "output_type": "stream",
     "text": [
      "1 it is odd number\n",
      "2 not odd number\n",
      "3 it is odd number\n",
      "4 not odd number\n",
      "5 it is odd number\n",
      "6 not odd number\n",
      "7 it is odd number\n",
      "8 not odd number\n",
      "9 it is odd number\n",
      "10 not odd number\n",
      "11 it is odd number\n",
      "12 not odd number\n",
      "13 it is odd number\n",
      "14 not odd number\n",
      "15 it is odd number\n",
      "16 not odd number\n",
      "17 it is odd number\n",
      "18 not odd number\n",
      "19 it is odd number\n",
      "20 not odd number\n",
      "21 it is odd number\n",
      "22 not odd number\n",
      "23 it is odd number\n",
      "24 not odd number\n",
      "25 it is odd number\n"
     ]
    },
    {
     "data": {
      "text/plain": [
       "[2, 4, 6, 8, 10, 12, 14, 16, 18, 20, 22, 24]"
      ]
     },
     "execution_count": 45,
     "metadata": {},
     "output_type": "execute_result"
    }
   ],
   "source": [
    "fun1(l1)"
   ]
  },
  {
   "cell_type": "markdown",
   "id": "d0e28fd6-9479-40ba-9c16-659c055dc590",
   "metadata": {},
   "source": [
    "Q2. Why *args and **kwargs is used in some functions? Create a function each for *args and **kwargs\n",
    "to demonstrate their use."
   ]
  },
  {
   "cell_type": "markdown",
   "id": "7db4e387-d0f6-4d64-90d3-42a07cec5f4b",
   "metadata": {},
   "source": [
    "*args is used to pass n no of arguments.\n",
    "**kwargs is used to return key value pair."
   ]
  },
  {
   "cell_type": "code",
   "execution_count": 46,
   "id": "2d98dded-c427-4cea-9be5-045a84ec35cb",
   "metadata": {},
   "outputs": [],
   "source": [
    "def fun1(*args):\n",
    "    return args"
   ]
  },
  {
   "cell_type": "code",
   "execution_count": 49,
   "id": "89eb5589-3ba9-4d06-8427-fd9ff69f8f7c",
   "metadata": {},
   "outputs": [
    {
     "data": {
      "text/plain": [
       "(1, 2, 3, 4, 6, 7, 8, 9)"
      ]
     },
     "execution_count": 49,
     "metadata": {},
     "output_type": "execute_result"
    }
   ],
   "source": [
    "fun1(1,2,3,4,6,7,8,9)"
   ]
  },
  {
   "cell_type": "code",
   "execution_count": 50,
   "id": "53db48cf-bef4-4b89-9ea4-c5f29c4dcdd2",
   "metadata": {},
   "outputs": [],
   "source": [
    "def fun2(**kwargs):\n",
    "    return kwargs"
   ]
  },
  {
   "cell_type": "code",
   "execution_count": 52,
   "id": "7b5a71e7-9620-4c58-9fb4-be847b36f85a",
   "metadata": {},
   "outputs": [
    {
     "data": {
      "text/plain": [
       "{'id': [101], 'name': ['sanjay'], 'sal': [1000000000]}"
      ]
     },
     "execution_count": 52,
     "metadata": {},
     "output_type": "execute_result"
    }
   ],
   "source": [
    "fun2(id=[101],name=['sanjay'],sal=[1000000000])"
   ]
  },
  {
   "cell_type": "markdown",
   "id": "7d204bd4-c768-42c5-87bd-67714856c5f8",
   "metadata": {},
   "source": [
    "Q3. What is an iterator in python? Name the method used to initialise the iterator object and the method\n",
    "used for iteration. Use these methods to print the first five elements of the given list [2, 4, 6, 8, 10, 12, 14,\n",
    "16, 18, 20]."
   ]
  },
  {
   "cell_type": "markdown",
   "id": "9b59342b-5433-4d1e-af30-777fde5f73ed",
   "metadata": {},
   "source": [
    "iterator is used to extract value one by one.\n",
    "iter method is used to initialise the object."
   ]
  },
  {
   "cell_type": "code",
   "execution_count": 53,
   "id": "f675329e-3c3e-40a9-8314-d38178263927",
   "metadata": {},
   "outputs": [],
   "source": [
    "l=[2, 4, 6, 8, 10, 12, 14, 16, 18, 20]"
   ]
  },
  {
   "cell_type": "code",
   "execution_count": 54,
   "id": "4813ebc3-22a7-47b1-84df-d0f50ac72590",
   "metadata": {},
   "outputs": [
    {
     "ename": "TypeError",
     "evalue": "'list' object is not an iterator",
     "output_type": "error",
     "traceback": [
      "\u001b[0;31m---------------------------------------------------------------------------\u001b[0m",
      "\u001b[0;31mTypeError\u001b[0m                                 Traceback (most recent call last)",
      "Cell \u001b[0;32mIn[54], line 1\u001b[0m\n\u001b[0;32m----> 1\u001b[0m \u001b[38;5;28;43mnext\u001b[39;49m\u001b[43m(\u001b[49m\u001b[43ml\u001b[49m\u001b[43m)\u001b[49m\n",
      "\u001b[0;31mTypeError\u001b[0m: 'list' object is not an iterator"
     ]
    }
   ],
   "source": [
    "next(l)"
   ]
  },
  {
   "cell_type": "code",
   "execution_count": 57,
   "id": "2facd0b3-9f03-48d4-87c3-3de7b7e47629",
   "metadata": {},
   "outputs": [],
   "source": [
    "l1=iter(l)"
   ]
  },
  {
   "cell_type": "code",
   "execution_count": 60,
   "id": "cc713d98-eb57-47f2-ae29-6562d47f43da",
   "metadata": {},
   "outputs": [
    {
     "data": {
      "text/plain": [
       "2"
      ]
     },
     "execution_count": 60,
     "metadata": {},
     "output_type": "execute_result"
    }
   ],
   "source": [
    "next(l1)"
   ]
  },
  {
   "cell_type": "code",
   "execution_count": 61,
   "id": "edd706ff-5c3c-421b-8e8d-0fe833ca3ca6",
   "metadata": {},
   "outputs": [
    {
     "data": {
      "text/plain": [
       "4"
      ]
     },
     "execution_count": 61,
     "metadata": {},
     "output_type": "execute_result"
    }
   ],
   "source": [
    "next(l1)"
   ]
  },
  {
   "cell_type": "code",
   "execution_count": 62,
   "id": "391e6d1f-a287-4b28-b4ce-8a8f56279022",
   "metadata": {},
   "outputs": [
    {
     "data": {
      "text/plain": [
       "6"
      ]
     },
     "execution_count": 62,
     "metadata": {},
     "output_type": "execute_result"
    }
   ],
   "source": [
    "next(l1)"
   ]
  },
  {
   "cell_type": "code",
   "execution_count": 63,
   "id": "d508151b-7dda-4ca8-8dde-f13b1955a7e2",
   "metadata": {},
   "outputs": [
    {
     "data": {
      "text/plain": [
       "8"
      ]
     },
     "execution_count": 63,
     "metadata": {},
     "output_type": "execute_result"
    }
   ],
   "source": [
    "next(l1)"
   ]
  },
  {
   "cell_type": "code",
   "execution_count": 64,
   "id": "c13ced7b-514c-4af3-815b-d2e45a1f5ffd",
   "metadata": {},
   "outputs": [
    {
     "data": {
      "text/plain": [
       "10"
      ]
     },
     "execution_count": 64,
     "metadata": {},
     "output_type": "execute_result"
    }
   ],
   "source": [
    "next(l1)"
   ]
  },
  {
   "cell_type": "markdown",
   "id": "4243ea9e-9269-4516-835b-01b344184d83",
   "metadata": {},
   "source": [
    "Q4. What is a generator function in python? Why yield keyword is used? Give an example of a generator\n",
    "function."
   ]
  },
  {
   "cell_type": "code",
   "execution_count": null,
   "id": "344450fc-9385-40a0-8a91-4827e9144111",
   "metadata": {},
   "outputs": [],
   "source": [
    "a generator in python is a function that return an iterator using yield keyword.\n",
    "yield keyword is used to yield ro extract value one by one."
   ]
  },
  {
   "cell_type": "code",
   "execution_count": 3,
   "id": "36635003-dc15-49f5-a8c3-24a668afa652",
   "metadata": {},
   "outputs": [],
   "source": [
    "def simple():\n",
    "    for i in range(10):\n",
    "        if(i%2==0):\n",
    "            yield i"
   ]
  },
  {
   "cell_type": "code",
   "execution_count": 4,
   "id": "34498373-4487-4f26-b538-5b5b94f1f7b8",
   "metadata": {},
   "outputs": [
    {
     "name": "stdout",
     "output_type": "stream",
     "text": [
      "0\n",
      "2\n",
      "4\n",
      "6\n",
      "8\n"
     ]
    }
   ],
   "source": [
    " for i in simple():\n",
    "        print(i)"
   ]
  },
  {
   "cell_type": "markdown",
   "id": "58a6ee00-124c-4d83-a315-9d58d2c13b1b",
   "metadata": {},
   "source": [
    "Q5. Create a generator function for prime numbers less than 1000. Use the next() method to print the\n",
    "first 20 prime numbers."
   ]
  },
  {
   "cell_type": "code",
   "execution_count": 13,
   "id": "78aaa701-94e4-44c3-b998-17cf2c03f326",
   "metadata": {},
   "outputs": [
    {
     "name": "stdout",
     "output_type": "stream",
     "text": [
      "2\n",
      "3\n",
      "5\n",
      "7\n",
      "11\n",
      "13\n",
      "17\n",
      "19\n",
      "23\n",
      "29\n",
      "31\n",
      "37\n",
      "41\n",
      "43\n",
      "47\n",
      "53\n",
      "59\n",
      "61\n",
      "67\n",
      "71\n",
      "73\n",
      "79\n",
      "83\n",
      "89\n",
      "97\n",
      "101\n",
      "103\n",
      "107\n",
      "109\n",
      "113\n",
      "127\n",
      "131\n",
      "137\n",
      "139\n",
      "149\n",
      "151\n",
      "157\n",
      "163\n",
      "167\n",
      "173\n",
      "179\n",
      "181\n",
      "191\n",
      "193\n",
      "197\n",
      "199\n",
      "211\n",
      "223\n",
      "227\n",
      "229\n",
      "233\n",
      "239\n",
      "241\n",
      "251\n",
      "257\n",
      "263\n",
      "269\n",
      "271\n",
      "277\n",
      "281\n",
      "283\n",
      "293\n",
      "307\n",
      "311\n",
      "313\n",
      "317\n",
      "331\n",
      "337\n",
      "347\n",
      "349\n",
      "353\n",
      "359\n",
      "367\n",
      "373\n",
      "379\n",
      "383\n",
      "389\n",
      "397\n",
      "401\n",
      "409\n",
      "419\n",
      "421\n",
      "431\n",
      "433\n",
      "439\n",
      "443\n",
      "449\n",
      "457\n",
      "461\n",
      "463\n",
      "467\n",
      "479\n",
      "487\n",
      "491\n",
      "499\n",
      "503\n",
      "509\n",
      "521\n",
      "523\n",
      "541\n",
      "547\n",
      "557\n",
      "563\n",
      "569\n",
      "571\n",
      "577\n",
      "587\n",
      "593\n",
      "599\n",
      "601\n",
      "607\n",
      "613\n",
      "617\n",
      "619\n",
      "631\n",
      "641\n",
      "643\n",
      "647\n",
      "653\n",
      "659\n",
      "661\n",
      "673\n",
      "677\n",
      "683\n",
      "691\n",
      "701\n",
      "709\n",
      "719\n",
      "727\n",
      "733\n",
      "739\n",
      "743\n",
      "751\n",
      "757\n",
      "761\n",
      "769\n",
      "773\n",
      "787\n",
      "797\n",
      "809\n",
      "811\n",
      "821\n",
      "823\n",
      "827\n",
      "829\n",
      "839\n",
      "853\n",
      "857\n",
      "859\n",
      "863\n",
      "877\n",
      "881\n",
      "883\n",
      "887\n",
      "907\n",
      "911\n",
      "919\n",
      "929\n",
      "937\n",
      "941\n",
      "947\n",
      "953\n",
      "967\n",
      "971\n",
      "977\n",
      "983\n",
      "991\n",
      "997\n"
     ]
    }
   ],
   "source": [
    "def is_prime(num):\n",
    "    if num < 2:\n",
    "        return False\n",
    "    for i in range(2, int(num**0.5) + 1):\n",
    "        if num % i == 0:\n",
    "            return False\n",
    "    return True\n",
    "\n",
    "def prime_generator(limit=1000):\n",
    "    for num in range(2, limit):\n",
    "        if is_prime(num):\n",
    "            yield num\n",
    "\n",
    "# Usage example:\n",
    "for prime in prime_generator(1000):\n",
    "    print(prime)"
   ]
  },
  {
   "cell_type": "markdown",
   "id": "71b9f27a-9416-4c54-ac76-9dabbc76fb41",
   "metadata": {},
   "source": [
    "Q6. Write a python program to print the first 10 Fibonacci numbers using a while loop."
   ]
  },
  {
   "cell_type": "code",
   "execution_count": 4,
   "id": "5bc5ce28-c523-410b-ba58-edcf8bcf18cc",
   "metadata": {},
   "outputs": [],
   "source": [
    "def test_fib(n):\n",
    "    a,b=0,1\n",
    "    for i in range(n):\n",
    "        yield a\n",
    "        a,b=b,a+b"
   ]
  },
  {
   "cell_type": "code",
   "execution_count": 5,
   "id": "d9644fb8-9a22-4d5f-9c14-c50dbf465dfe",
   "metadata": {},
   "outputs": [
    {
     "name": "stdout",
     "output_type": "stream",
     "text": [
      "0\n",
      "1\n",
      "1\n",
      "2\n",
      "3\n",
      "5\n",
      "8\n",
      "13\n",
      "21\n",
      "34\n"
     ]
    }
   ],
   "source": [
    "for i in test_fib(10):\n",
    "    print(i)"
   ]
  },
  {
   "cell_type": "markdown",
   "id": "a97b5688-c86d-4b4d-8024-e6f8b82986d9",
   "metadata": {},
   "source": [
    "Q7. Write a List Comprehension to iterate through the given string: ‘pwskills’.\n",
    "Expected output: ['p', 'w', 's', 'k', 'i', 'l', 'l', 's']"
   ]
  },
  {
   "cell_type": "code",
   "execution_count": 9,
   "id": "32989270-ddc8-479e-8283-307db5bdb30b",
   "metadata": {},
   "outputs": [
    {
     "name": "stdout",
     "output_type": "stream",
     "text": [
      "['p', 'w', 's', 'k', 'i', 'l', 'l', 's']\n"
     ]
    }
   ],
   "source": [
    "input_string = 'pwskills'\n",
    "result = [char for char in input_string]\n",
    "print(result)"
   ]
  },
  {
   "cell_type": "markdown",
   "id": "c9b9adad-73ea-40f8-818d-4199766971bd",
   "metadata": {},
   "source": [
    "Q8. Write a python program to check whether a given number is Palindrome or not using a while loop."
   ]
  },
  {
   "cell_type": "code",
   "execution_count": 10,
   "id": "6effc5bc-604f-400c-9d3e-b3a801b4d666",
   "metadata": {},
   "outputs": [
    {
     "name": "stdin",
     "output_type": "stream",
     "text": [
      "Enter a number:  34\n"
     ]
    },
    {
     "name": "stdout",
     "output_type": "stream",
     "text": [
      "34 is not a palindrome.\n"
     ]
    }
   ],
   "source": [
    "def is_palindrome(num):\n",
    "    original_num = num\n",
    "    reversed_num = 0\n",
    "\n",
    "    while num > 0:\n",
    "        digit = num % 10\n",
    "        reversed_num = reversed_num * 10 + digit\n",
    "        num //= 10\n",
    "\n",
    "    return original_num == reversed_num\n",
    "\n",
    "# Input a number\n",
    "num = int(input(\"Enter a number: \"))\n",
    "\n",
    "if is_palindrome(num):\n",
    "    print(f\"{num} is a palindrome.\")\n",
    "else:\n",
    "    print(f\"{num} is not a palindrome.\")"
   ]
  },
  {
   "cell_type": "markdown",
   "id": "deb7cf07-1ce6-4904-8d49-53c5c0d1dc4c",
   "metadata": {},
   "source": [
    "Q9. Write a code to print odd numbers from 1 to 100 using list comprehension."
   ]
  },
  {
   "cell_type": "code",
   "execution_count": 11,
   "id": "5908fde8-354c-4d18-a63f-7a34565f8b30",
   "metadata": {},
   "outputs": [
    {
     "name": "stdout",
     "output_type": "stream",
     "text": [
      "[1, 3, 5, 7, 9, 11, 13, 15, 17, 19, 21, 23, 25, 27, 29, 31, 33, 35, 37, 39, 41, 43, 45, 47, 49, 51, 53, 55, 57, 59, 61, 63, 65, 67, 69, 71, 73, 75, 77, 79, 81, 83, 85, 87, 89, 91, 93, 95, 97, 99]\n"
     ]
    }
   ],
   "source": [
    "odd_numbers = [x for x in range(1, 101) if x % 2 != 0]\n",
    "print(odd_numbers)"
   ]
  },
  {
   "cell_type": "code",
   "execution_count": null,
   "id": "00e14d9a-95dc-499a-83f4-2aa06c5542ff",
   "metadata": {},
   "outputs": [],
   "source": []
  }
 ],
 "metadata": {
  "kernelspec": {
   "display_name": "Python 3 (ipykernel)",
   "language": "python",
   "name": "python3"
  },
  "language_info": {
   "codemirror_mode": {
    "name": "ipython",
    "version": 3
   },
   "file_extension": ".py",
   "mimetype": "text/x-python",
   "name": "python",
   "nbconvert_exporter": "python",
   "pygments_lexer": "ipython3",
   "version": "3.10.8"
  }
 },
 "nbformat": 4,
 "nbformat_minor": 5
}
